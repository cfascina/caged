{
 "cells": [
  {
   "cell_type": "code",
   "execution_count": 1,
   "id": "d6ccbd10-8b0f-4926-89af-dcc383a1fdc5",
   "metadata": {},
   "outputs": [],
   "source": [
    "import pandas as pd\n",
    "\n",
    "from ipywidgets import interact, Dropdown"
   ]
  },
  {
   "cell_type": "code",
   "execution_count": 2,
   "id": "5aab13f5-47f2-496a-9ad7-d98442875324",
   "metadata": {},
   "outputs": [],
   "source": [
    "df = pd.read_csv('352590-saldo.csv', sep = ';')"
   ]
  },
  {
   "cell_type": "code",
   "execution_count": 3,
   "id": "c5f9fbb8-a0bb-40dd-a2a3-9f0c3ddedafc",
   "metadata": {},
   "outputs": [
    {
     "data": {
      "text/html": [
       "<div>\n",
       "<style scoped>\n",
       "    .dataframe tbody tr th:only-of-type {\n",
       "        vertical-align: middle;\n",
       "    }\n",
       "\n",
       "    .dataframe tbody tr th {\n",
       "        vertical-align: top;\n",
       "    }\n",
       "\n",
       "    .dataframe thead th {\n",
       "        text-align: right;\n",
       "    }\n",
       "</style>\n",
       "<table border=\"1\" class=\"dataframe\">\n",
       "  <thead>\n",
       "    <tr style=\"text-align: right;\">\n",
       "      <th></th>\n",
       "      <th>município</th>\n",
       "      <th>secao</th>\n",
       "      <th>subclasse</th>\n",
       "      <th>admitidos</th>\n",
       "      <th>desligados</th>\n",
       "      <th>saldo</th>\n",
       "    </tr>\n",
       "  </thead>\n",
       "  <tbody>\n",
       "    <tr>\n",
       "      <th>0</th>\n",
       "      <td>352590</td>\n",
       "      <td>Agricultura, Pecuária, Produção Florestal, Pes...</td>\n",
       "      <td>Horticultura, Exceto Morango</td>\n",
       "      <td>1</td>\n",
       "      <td>0</td>\n",
       "      <td>1</td>\n",
       "    </tr>\n",
       "    <tr>\n",
       "      <th>1</th>\n",
       "      <td>352590</td>\n",
       "      <td>Agricultura, Pecuária, Produção Florestal, Pes...</td>\n",
       "      <td>Cultivo de Outras Plantas de Lavoura Permanent...</td>\n",
       "      <td>1</td>\n",
       "      <td>0</td>\n",
       "      <td>1</td>\n",
       "    </tr>\n",
       "    <tr>\n",
       "      <th>2</th>\n",
       "      <td>352590</td>\n",
       "      <td>Indústrias Extrativas</td>\n",
       "      <td>Extração e Britamento de Pedras e Outros Mater...</td>\n",
       "      <td>1</td>\n",
       "      <td>2</td>\n",
       "      <td>-1</td>\n",
       "    </tr>\n",
       "    <tr>\n",
       "      <th>3</th>\n",
       "      <td>352590</td>\n",
       "      <td>Indústrias Extrativas</td>\n",
       "      <td>Extração de Minerais para Fabricação de Adubos...</td>\n",
       "      <td>1</td>\n",
       "      <td>3</td>\n",
       "      <td>-2</td>\n",
       "    </tr>\n",
       "    <tr>\n",
       "      <th>4</th>\n",
       "      <td>352590</td>\n",
       "      <td>Indústrias de Transformação</td>\n",
       "      <td>Fabricação de Produtos de Carne</td>\n",
       "      <td>10</td>\n",
       "      <td>20</td>\n",
       "      <td>-10</td>\n",
       "    </tr>\n",
       "  </tbody>\n",
       "</table>\n",
       "</div>"
      ],
      "text/plain": [
       "   município                                              secao  \\\n",
       "0     352590  Agricultura, Pecuária, Produção Florestal, Pes...   \n",
       "1     352590  Agricultura, Pecuária, Produção Florestal, Pes...   \n",
       "2     352590                              Indústrias Extrativas   \n",
       "3     352590                              Indústrias Extrativas   \n",
       "4     352590                        Indústrias de Transformação   \n",
       "\n",
       "                                           subclasse  admitidos  desligados  \\\n",
       "0                       Horticultura, Exceto Morango          1           0   \n",
       "1  Cultivo de Outras Plantas de Lavoura Permanent...          1           0   \n",
       "2  Extração e Britamento de Pedras e Outros Mater...          1           2   \n",
       "3  Extração de Minerais para Fabricação de Adubos...          1           3   \n",
       "4                    Fabricação de Produtos de Carne         10          20   \n",
       "\n",
       "   saldo  \n",
       "0      1  \n",
       "1      1  \n",
       "2     -1  \n",
       "3     -2  \n",
       "4    -10  "
      ]
     },
     "execution_count": 3,
     "metadata": {},
     "output_type": "execute_result"
    }
   ],
   "source": [
    "# df.head()"
   ]
  },
  {
   "cell_type": "code",
   "execution_count": 4,
   "id": "1ea4fbf0-b26d-4ed8-8151-230b1e41559d",
   "metadata": {},
   "outputs": [],
   "source": [
    "data_dict = {}\n",
    "\n",
    "for section in df['secao'].unique():\n",
    "    data_dict[section] = list(df.loc[df['secao'] == section]['subclasse'].values)"
   ]
  },
  {
   "cell_type": "code",
   "execution_count": 5,
   "id": "474f5177-e2c1-4683-a774-2af714c87fc7",
   "metadata": {},
   "outputs": [],
   "source": [
    "dd_section = Dropdown(options = data_dict.keys())\n",
    "dd_subclass = Dropdown(options = data_dict[dd_section.value])"
   ]
  },
  {
   "cell_type": "code",
   "execution_count": 6,
   "id": "fa3c8d00-ad8d-419f-a11e-da577d2b6fc5",
   "metadata": {},
   "outputs": [
    {
     "data": {
      "application/vnd.jupyter.widget-view+json": {
       "model_id": "f39811e47c4b4138a9c34f09b7d6ead3",
       "version_major": 2,
       "version_minor": 0
      },
      "text/plain": [
       "interactive(children=(Dropdown(description='section', options=('Agricultura, Pecuária, Produção Florestal, Pes…"
      ]
     },
     "metadata": {},
     "output_type": "display_data"
    }
   ],
   "source": [
    "@interact(section = dd_section, subclass = dd_subclass)\n",
    "def picker(section, subclass):\n",
    "    dd_subclass.options = data_dict[section]\n",
    "    \n",
    "    return df.loc[(df['secao'] == section) & (df['subclasse'] == subclass)]"
   ]
  }
 ],
 "metadata": {
  "kernelspec": {
   "display_name": "Python 3",
   "language": "python",
   "name": "python3"
  },
  "language_info": {
   "codemirror_mode": {
    "name": "ipython",
    "version": 3
   },
   "file_extension": ".py",
   "mimetype": "text/x-python",
   "name": "python",
   "nbconvert_exporter": "python",
   "pygments_lexer": "ipython3",
   "version": "3.8.8"
  }
 },
 "nbformat": 4,
 "nbformat_minor": 5
}

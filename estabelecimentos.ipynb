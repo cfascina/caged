{
 "cells": [
  {
   "cell_type": "code",
   "execution_count": 1,
   "id": "2bc5e299-dfe0-41a1-ada3-5908f74ce3e8",
   "metadata": {},
   "outputs": [],
   "source": [
    "import pandas as pd"
   ]
  },
  {
   "cell_type": "code",
   "execution_count": 2,
   "id": "2b96459e-f11b-4a42-ab23-30c71439b4d6",
   "metadata": {},
   "outputs": [],
   "source": [
    "file_name = 'estabelecimentos/CAGEDESTAB202105.csv'"
   ]
  },
  {
   "cell_type": "code",
   "execution_count": 3,
   "id": "5999e11b-6a4c-4fcb-9ada-77e2a78f0d1f",
   "metadata": {},
   "outputs": [],
   "source": [
    "df = pd.read_csv(file_name, sep = ';')"
   ]
  },
  {
   "cell_type": "code",
   "execution_count": 4,
   "id": "9c29bb78-1550-4626-9bc5-610d446b74da",
   "metadata": {},
   "outputs": [],
   "source": [
    "city_code = 352590"
   ]
  },
  {
   "cell_type": "code",
   "execution_count": 5,
   "id": "8aeb49e2-b2ad-4b70-895c-fd0af125f1d1",
   "metadata": {},
   "outputs": [],
   "source": [
    "df_city = df.loc[df['município'] == city_code]"
   ]
  },
  {
   "cell_type": "code",
   "execution_count": 6,
   "id": "9b780cb3-e47f-4b84-b798-7bd3865527c3",
   "metadata": {},
   "outputs": [],
   "source": [
    "df_city = df_city.rename(columns = {'seção': 'secao', 'saldomovimentação': 'saldo'})"
   ]
  },
  {
   "cell_type": "code",
   "execution_count": 7,
   "id": "9b510a95-3ae4-4e6a-827f-bd616a720928",
   "metadata": {},
   "outputs": [],
   "source": [
    "df_grouped = \\\n",
    "    df_city \\\n",
    "        .groupby(['município', 'secao', 'subclasse']) \\\n",
    "        .agg({'admitidos': 'sum', 'desligados': 'sum', 'saldo': 'sum'}) \\\n",
    "        .reset_index()"
   ]
  },
  {
   "cell_type": "markdown",
   "id": "2eecfed9-9677-4799-a9dc-6ea49295a72d",
   "metadata": {},
   "source": [
    "---"
   ]
  },
  {
   "cell_type": "code",
   "execution_count": 8,
   "id": "917e2283-b07d-4db7-8527-3abe3110f4b5",
   "metadata": {},
   "outputs": [],
   "source": [
    "xls = pd.ExcelFile('estabelecimentos/Layout Novo Caged Estabelecimento.xlsx')"
   ]
  },
  {
   "cell_type": "code",
   "execution_count": 9,
   "id": "2a86d0ac-22ef-4437-ba67-93878259e394",
   "metadata": {},
   "outputs": [],
   "source": [
    "sections = pd.read_excel(xls, 'seção').set_index('Código').T.to_dict('list')"
   ]
  },
  {
   "cell_type": "code",
   "execution_count": 10,
   "id": "f3127c4a-7bd5-4338-8158-b403ba28c236",
   "metadata": {},
   "outputs": [],
   "source": [
    "subclasses = pd.read_excel(xls, 'subclasse').set_index('Código').T.to_dict('list')"
   ]
  },
  {
   "cell_type": "markdown",
   "id": "addd003f-109b-45d5-ade3-c6ea120785b5",
   "metadata": {},
   "source": [
    "---"
   ]
  },
  {
   "cell_type": "code",
   "execution_count": 11,
   "id": "c3d74941-1822-4f12-b8af-201e9c4a8e5a",
   "metadata": {},
   "outputs": [],
   "source": [
    "df_results = df_grouped.replace({'secao': sections, 'subclasse': subclasses})"
   ]
  },
  {
   "cell_type": "code",
   "execution_count": 12,
   "id": "26c30a93-9e49-444e-909c-03640653e7ca",
   "metadata": {},
   "outputs": [],
   "source": [
    "df_results.to_csv(f'{city_code}-saldo.csv', index = False, sep = ';')"
   ]
  }
 ],
 "metadata": {
  "kernelspec": {
   "display_name": "Python 3.8.5 64-bit ('.venv': venv)",
   "language": "python",
   "name": "python385jvsc74a57bd0bd84cc655f9a7d60b5daaedd083ad11a398f50ffd6dada9e63a535ad337154e1"
  },
  "language_info": {
   "codemirror_mode": {
    "name": "ipython",
    "version": 3
   },
   "file_extension": ".py",
   "mimetype": "text/x-python",
   "name": "python",
   "nbconvert_exporter": "python",
   "pygments_lexer": "ipython3",
   "version": "3.8.10"
  }
 },
 "nbformat": 4,
 "nbformat_minor": 5
}

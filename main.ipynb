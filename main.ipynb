{
 "cells": [
  {
   "cell_type": "code",
   "execution_count": 1,
   "id": "c94c470f-11df-4fca-9537-ac29364df879",
   "metadata": {},
   "outputs": [],
   "source": [
    "import glob\n",
    "import matplotlib.pyplot as plt\n",
    "import numpy as np\n",
    "import pandas as pd\n",
    "\n",
    "from ipywidgets import interact, Dropdown"
   ]
  },
  {
   "cell_type": "code",
   "execution_count": 2,
   "id": "da8aeabc-75d7-466e-8d96-f7411a978d67",
   "metadata": {},
   "outputs": [],
   "source": [
    "df = pd.DataFrame()"
   ]
  },
  {
   "cell_type": "code",
   "execution_count": 3,
   "id": "91d97a74-2160-43e8-8799-3d4deb6bfeb6",
   "metadata": {},
   "outputs": [],
   "source": [
    "for csv in glob.glob('estabelecimentos/*csv'):\n",
    "    data = pd.read_csv(csv, sep = ';')\n",
    "    df = df.append(data)"
   ]
  },
  {
   "cell_type": "code",
   "execution_count": 4,
   "id": "76fa5314-b24a-465b-92e2-43a80a9c9770",
   "metadata": {},
   "outputs": [],
   "source": [
    "cols = [\n",
    "    'região',\n",
    "    'uf',\n",
    "    'fonte_desl', \n",
    "    'tipoempregador', \n",
    "    'tipoestabelecimento', \n",
    "    'tamestabjan'\n",
    "]"
   ]
  },
  {
   "cell_type": "code",
   "execution_count": 5,
   "id": "66844fac-39fe-4106-a5be-34490ac00726",
   "metadata": {},
   "outputs": [],
   "source": [
    "df = df.drop(cols, axis = 1)"
   ]
  },
  {
   "cell_type": "code",
   "execution_count": 6,
   "id": "117a3f7d-704c-4828-887d-eeae9e4fbcf9",
   "metadata": {},
   "outputs": [],
   "source": [
    "df = df.rename(\n",
    "    columns = {\n",
    "        'competência': 'competencia', \n",
    "        'município': 'municipio', \n",
    "        'seção': 'secao', \n",
    "        'saldomovimentação': 'saldo'\n",
    "    }\n",
    ")"
   ]
  },
  {
   "cell_type": "code",
   "execution_count": 7,
   "id": "8acb287e-2afc-4410-8756-cbcf47ba1782",
   "metadata": {},
   "outputs": [],
   "source": [
    "df = df.loc[df['municipio'] == 352590]"
   ]
  },
  {
   "cell_type": "code",
   "execution_count": 8,
   "id": "9eb0d237-ced3-4e3c-ad52-83b0e8a1369a",
   "metadata": {},
   "outputs": [],
   "source": [
    "df_grouped = \\\n",
    "    df.groupby([\n",
    "        'competencia', \n",
    "        'secao', \n",
    "        'subclasse']\n",
    "    ).agg({\n",
    "        'admitidos': 'sum', \n",
    "        'desligados': 'sum', \n",
    "        'saldo': 'sum'}) \\\n",
    "    .reset_index()"
   ]
  },
  {
   "cell_type": "code",
   "execution_count": 9,
   "id": "42329bd4-b7f2-4870-9e87-e64623ce251e",
   "metadata": {},
   "outputs": [],
   "source": [
    "data_dict = {}\n",
    "\n",
    "for period in df_grouped['competencia'].unique():\n",
    "    data_dict[period] = {}\n",
    "    \n",
    "    for section in df_grouped.loc[df_grouped['competencia'] == period]['secao'].unique():\n",
    "        data_dict[period][section] = list(\n",
    "            df_grouped.loc[\n",
    "                (df_grouped['competencia'] == period) & \n",
    "                (df_grouped['secao'] == section)\n",
    "            ]['subclasse'].values\n",
    "        )"
   ]
  },
  {
   "cell_type": "code",
   "execution_count": 10,
   "id": "a0763b0e-348c-4e74-bf85-2b3872af668c",
   "metadata": {},
   "outputs": [],
   "source": [
    "# dd_period = Dropdown(options = data_dict.keys())\n",
    "# dd_section = Dropdown(options = data_dict[dd_period.value].keys())\n",
    "# dd_subclasse = Dropdown(options = data_dict[dd_period.value][dd_section.value])"
   ]
  },
  {
   "cell_type": "code",
   "execution_count": 11,
   "id": "d2066d13-dfb4-42f6-a33b-ffd7d60dc5f0",
   "metadata": {},
   "outputs": [],
   "source": [
    "df_plot = df.loc[df['secao'] == 'G'].groupby('competencia').agg({'saldo': 'sum'}).reset_index()"
   ]
  },
  {
   "cell_type": "code",
   "execution_count": 12,
   "id": "1f0fce7c-18b8-49ab-9952-228c85c45f0a",
   "metadata": {},
   "outputs": [],
   "source": [
    "df_plot['competencia'] = df_plot['competencia'].astype(str)"
   ]
  },
  {
   "cell_type": "code",
   "execution_count": 13,
   "id": "4ad93277-301e-4f3b-8bb0-ab4a7a005a82",
   "metadata": {},
   "outputs": [],
   "source": [
    "df_plot['competencia'] = df_plot['competencia'].apply(lambda x: x[4:] + '/' + x[2:4])"
   ]
  },
  {
   "cell_type": "code",
   "execution_count": 14,
   "id": "89786a95-af81-48a9-871f-d729ed0ffe79",
   "metadata": {},
   "outputs": [
    {
     "data": {
      "image/png": "[encoded data removed]",
      "text/plain": [
       "<Figure size 1080x720 with 1 Axes>"
      ]
     },
     "metadata": {
      "needs_background": "light"
     },
     "output_type": "display_data"
    }
   ],
   "source": [
    "fig, ax = plt.subplots(figsize = (15, 10))\n",
    "\n",
    "plt.suptitle('Saldo de Empregos no Setor de {Comércio}', fontsize = 22, fontweight = 'bold')\n",
    "plt.title('Cidade de Jundiaí', fontsize = 18, y = 1.035)\n",
    "\n",
    "graph = ax.bar(df_plot['competencia'].values, df_plot['saldo'].values, zorder = 2)\n",
    "\n",
    "for bar in graph:\n",
    "    height = bar.get_height()\n",
    "\n",
    "    if height > 0:\n",
    "        v_align = 'bottom'\n",
    "        y_pos = height + 20\n",
    "    else:\n",
    "        v_align = 'top'\n",
    "        y_pos = height - 20\n",
    "\n",
    "    ax.text(bar.get_x() + bar.get_width() / 2, y_pos, height, ha = 'center', va = v_align, fontweight = 'bold')\n",
    "\n",
    "plt.grid(axis = 'y', zorder = 0)\n",
    "plt.show()"
   ]
  }
 ],
 "metadata": {
  "kernelspec": {
   "display_name": "Python 3.8.8 64-bit ('base': conda)",
   "language": "python",
   "name": "python388jvsc74a57bd0d83547533f9050dd6fe51668b0feb7653dace4d0f960859b6bdd6b3de39e452f"
  },
  "language_info": {
   "codemirror_mode": {
    "name": "ipython",
    "version": 3
   },
   "file_extension": ".py",
   "mimetype": "text/x-python",
   "name": "python",
   "nbconvert_exporter": "python",
   "pygments_lexer": "ipython3",
   "version": "3.8.8"
  }
 },
 "nbformat": 4,
 "nbformat_minor": 5
}

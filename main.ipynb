{
 "cells": [
  {
   "cell_type": "code",
   "execution_count": 200,
   "id": "c94c470f-11df-4fca-9537-ac29364df879",
   "metadata": {},
   "outputs": [],
   "source": [
    "import glob\n",
    "import pandas as pd\n",
    "\n",
    "from ipywidgets import interact, Dropdown"
   ]
  },
  {
   "cell_type": "code",
   "execution_count": 2,
   "id": "da8aeabc-75d7-466e-8d96-f7411a978d67",
   "metadata": {},
   "outputs": [],
   "source": [
    "df = pd.DataFrame()"
   ]
  },
  {
   "cell_type": "code",
   "execution_count": 3,
   "id": "91d97a74-2160-43e8-8799-3d4deb6bfeb6",
   "metadata": {},
   "outputs": [],
   "source": [
    "for csv in glob.glob('estabelecimentos/*csv'):\n",
    "    data = pd.read_csv(csv, sep = ';')\n",
    "    df = df.append(data)"
   ]
  },
  {
   "cell_type": "code",
   "execution_count": 5,
   "id": "76fa5314-b24a-465b-92e2-43a80a9c9770",
   "metadata": {},
   "outputs": [],
   "source": [
    "cols = [\n",
    "    'região',\n",
    "    'uf',\n",
    "    'fonte_desl', \n",
    "    'tipoempregador', \n",
    "    'tipoestabelecimento', \n",
    "    'tamestabjan'\n",
    "]"
   ]
  },
  {
   "cell_type": "code",
   "execution_count": 6,
   "id": "66844fac-39fe-4106-a5be-34490ac00726",
   "metadata": {},
   "outputs": [],
   "source": [
    "df = df.drop(cols, axis = 1)"
   ]
  },
  {
   "cell_type": "code",
   "execution_count": 8,
   "id": "117a3f7d-704c-4828-887d-eeae9e4fbcf9",
   "metadata": {},
   "outputs": [],
   "source": [
    "df = df.rename(\n",
    "    columns = {\n",
    "        'competência': 'competencia', \n",
    "        'município': 'municipio', \n",
    "        'seção': 'secao', \n",
    "        'saldomovimentação': 'saldo'\n",
    "    }\n",
    ")"
   ]
  },
  {
   "cell_type": "code",
   "execution_count": 14,
   "id": "8acb287e-2afc-4410-8756-cbcf47ba1782",
   "metadata": {},
   "outputs": [],
   "source": [
    "df = df.loc[df['municipio'] == 352590]"
   ]
  },
  {
   "cell_type": "code",
   "execution_count": 22,
   "id": "9eb0d237-ced3-4e3c-ad52-83b0e8a1369a",
   "metadata": {},
   "outputs": [],
   "source": [
    "df_grouped = \\\n",
    "    df.groupby([\n",
    "        'competencia', \n",
    "        'secao', \n",
    "        'subclasse']\n",
    "    ).agg({\n",
    "        'admitidos': 'sum', \n",
    "        'desligados': 'sum', \n",
    "        'saldo': 'sum'}) \\\n",
    "    .reset_index()"
   ]
  },
  {
   "cell_type": "code",
   "execution_count": 178,
   "id": "42329bd4-b7f2-4870-9e87-e64623ce251e",
   "metadata": {},
   "outputs": [],
   "source": [
    "data_dict = {}\n",
    "\n",
    "for period in df_grouped['competencia'].unique():\n",
    "    data_dict[period] = {}\n",
    "    \n",
    "    for section in df_grouped.loc[df_grouped['competencia'] == period]['secao'].unique():\n",
    "        data_dict[period][section] = list(\n",
    "            df_grouped.loc[\n",
    "                (df_grouped['competencia'] == period) & \n",
    "                (df_grouped['secao'] == section)\n",
    "            ]['subclasse'].values\n",
    "        )"
   ]
  },
  {
   "cell_type": "code",
   "execution_count": null,
   "id": "fa53bc53-75d6-4fad-805a-bdb2d0ab0c45",
   "metadata": {},
   "outputs": [],
   "source": [
    "# dd_section = Dropdown(options = data_dict.keys())\n",
    "# dd_subclass = Dropdown(options = data_dict[dd_section.value])"
   ]
  },
  {
   "cell_type": "code",
   "execution_count": 201,
   "id": "6a3017fb-295b-45fd-9a9d-625a3e296710",
   "metadata": {},
   "outputs": [],
   "source": [
    "dd_period = Dropdown(options = data_dict.keys())"
   ]
  },
  {
   "cell_type": "code",
   "execution_count": 202,
   "id": "467046c7-fde0-4833-9ce8-c4ba893934a7",
   "metadata": {},
   "outputs": [
    {
     "data": {
      "application/vnd.jupyter.widget-view+json": {
       "model_id": "f4341ada133c488a85415f63ee288258",
       "version_major": 2,
       "version_minor": 0
      },
      "text/plain": [
       "Dropdown(options=(202006, 202007, 202008, 202009, 202010, 202011, 202012, 202101, 202102, 202103, 202104, 2021…"
      ]
     },
     "metadata": {},
     "output_type": "display_data"
    }
   ],
   "source": [
    "dd_period"
   ]
  },
  {
   "cell_type": "code",
   "execution_count": 214,
   "id": "a0763b0e-348c-4e74-bf85-2b3872af668c",
   "metadata": {},
   "outputs": [],
   "source": [
    "dd_section = Dropdown(options = data_dict[dd_period.value].keys())"
   ]
  },
  {
   "cell_type": "code",
   "execution_count": 215,
   "id": "5a20b96a-191e-42b9-ab67-74dd59bb625b",
   "metadata": {},
   "outputs": [
    {
     "data": {
      "application/vnd.jupyter.widget-view+json": {
       "model_id": "2666b256535f4b43b8485e92d42c8260",
       "version_major": 2,
       "version_minor": 0
      },
      "text/plain": [
       "Dropdown(options=('A', 'B', 'C', 'D', 'E', 'F', 'G', 'H', 'I', 'J', 'K', 'L', 'M', 'N', 'O', 'P', 'Q', 'R', 'S…"
      ]
     },
     "metadata": {},
     "output_type": "display_data"
    }
   ],
   "source": [
    "dd_section"
   ]
  },
  {
   "cell_type": "code",
   "execution_count": 220,
   "id": "d2066d13-dfb4-42f6-a33b-ffd7d60dc5f0",
   "metadata": {},
   "outputs": [],
   "source": [
    "dd_subclasse = Dropdown(options = data_dict[dd_period.value][dd_section.value])"
   ]
  },
  {
   "cell_type": "code",
   "execution_count": 221,
   "id": "1f0fce7c-18b8-49ab-9952-228c85c45f0a",
   "metadata": {},
   "outputs": [
    {
     "data": {
      "application/vnd.jupyter.widget-view+json": {
       "model_id": "2b3910e119df4f64a850ac5ad6dac415",
       "version_major": 2,
       "version_minor": 0
      },
      "text/plain": [
       "Dropdown(options=(3600601, 3701100, 3702900, 3821100, 3832700), value=3600601)"
      ]
     },
     "metadata": {},
     "output_type": "display_data"
    }
   ],
   "source": [
    "dd_subclasse"
   ]
  }
 ],
 "metadata": {
  "kernelspec": {
   "display_name": "Python 3.8.8 64-bit ('base': conda)",
   "language": "python",
   "name": "python388jvsc74a57bd0d83547533f9050dd6fe51668b0feb7653dace4d0f960859b6bdd6b3de39e452f"
  },
  "language_info": {
   "codemirror_mode": {
    "name": "ipython",
    "version": 3
   },
   "file_extension": ".py",
   "mimetype": "text/x-python",
   "name": "python",
   "nbconvert_exporter": "python",
   "pygments_lexer": "ipython3",
   "version": "3.8.8"
  }
 },
 "nbformat": 4,
 "nbformat_minor": 5
}

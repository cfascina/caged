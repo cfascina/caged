{
 "cells": [
  {
   "cell_type": "code",
   "execution_count": 1,
   "id": "c94c470f-11df-4fca-9537-ac29364df879",
   "metadata": {},
   "outputs": [],
   "source": [
    "import matplotlib.pyplot as plt\n",
    "import pandas as pd\n",
    "\n",
    "from ipywidgets import interact, Dropdown"
   ]
  },
  {
   "cell_type": "code",
   "execution_count": 2,
   "id": "d3d94ea8-da1d-41df-9d99-6b776687ec9f",
   "metadata": {},
   "outputs": [],
   "source": [
    "xls = pd.ExcelFile('inputs/layout.xlsx')"
   ]
  },
  {
   "cell_type": "code",
   "execution_count": 3,
   "id": "7eae0074-3a13-48dd-889c-3bb25263caeb",
   "metadata": {},
   "outputs": [],
   "source": [
    "subclasses = pd.read_excel(xls, 'subclasse').set_index('Código').to_dict()['Descrição']"
   ]
  },
  {
   "cell_type": "code",
   "execution_count": 4,
   "id": "8acb287e-2afc-4410-8756-cbcf47ba1782",
   "metadata": {},
   "outputs": [],
   "source": [
    "df = pd.read_csv('outputs/data.csv', sep = ';', encoding = 'utf-8')"
   ]
  },
  {
   "cell_type": "code",
   "execution_count": 5,
   "id": "3cd29b4f-2e64-4797-bc31-f819f3178142",
   "metadata": {},
   "outputs": [],
   "source": [
    "subclass_codes = df['subclasse'].unique()"
   ]
  },
  {
   "cell_type": "code",
   "execution_count": 6,
   "id": "3332a1dd-8ad9-4837-9c33-14d97bd4e296",
   "metadata": {},
   "outputs": [],
   "source": [
    "dict_subclasses = {}"
   ]
  },
  {
   "cell_type": "code",
   "execution_count": 7,
   "id": "e423ed22-d8fa-4c6b-91f8-221e138df94a",
   "metadata": {},
   "outputs": [],
   "source": [
    "for code in subclass_codes:\n",
    "    dict_subclasses[code] = subclasses[code]"
   ]
  },
  {
   "cell_type": "code",
   "execution_count": 8,
   "id": "fce1057e-30dd-4060-991a-671f3a442b7c",
   "metadata": {},
   "outputs": [],
   "source": [
    "dict_subclasses = {key: value for key, value in sorted(dict_subclasses.items(), key = lambda item: item[1])}"
   ]
  },
  {
   "cell_type": "code",
   "execution_count": 9,
   "id": "89786a95-af81-48a9-871f-d729ed0ffe79",
   "metadata": {},
   "outputs": [],
   "source": [
    "def subclass_graph(subclass, df_balance):\n",
    "    fig, ax = plt.subplots(figsize = (15, 10))\n",
    "\n",
    "    plt.suptitle(f'Saldo de Empregos', fontsize = 20, fontweight = 'bold')\n",
    "    plt.title(subclass, fontsize = 18, y = 1.035)\n",
    "\n",
    "    graph = ax.bar(df_balance['competencia'].values, df_balance['saldo'].values, zorder = 2)\n",
    "\n",
    "    for bar in graph:\n",
    "        height = bar.get_height()\n",
    "        y_pos = height * 1.035\n",
    "        \n",
    "        if height >= 0:\n",
    "            v_align = 'bottom'\n",
    "        else:\n",
    "            v_align = 'top'\n",
    "\n",
    "        ax.text(bar.get_x() + bar.get_width() / 2, y_pos, height, ha = 'center', va = v_align, fontweight = 'bold')\n",
    "\n",
    "    plt.grid(axis = 'y', zorder = 0)\n",
    "    plt.show()"
   ]
  },
  {
   "cell_type": "code",
   "execution_count": 10,
   "id": "c058b06d-42d0-48b3-b9d5-db9edf997ebb",
   "metadata": {},
   "outputs": [],
   "source": [
    "def get_balance(subclass):\n",
    "    df_balance = df.loc[df['subclasse'] == subclass].groupby('competencia').agg({'saldo': 'sum'}).reset_index()\n",
    "    df_balance['competencia'] = df_balance['competencia'].astype(str)\n",
    "    df_balance['competencia'] = df_balance['competencia'].apply(lambda x: x[4:] + '/' + x[2:4])\n",
    "    \n",
    "    return df_balance"
   ]
  },
  {
   "cell_type": "code",
   "execution_count": 11,
   "id": "2e0f61a3-6bec-4968-b7aa-ca0fe68b7d54",
   "metadata": {},
   "outputs": [],
   "source": [
    "dd_subclass = Dropdown(options = dict_subclasses.values())"
   ]
  },
  {
   "cell_type": "code",
   "execution_count": 12,
   "id": "0c3e1dcd-cab2-4a3b-81e4-e8506e182290",
   "metadata": {},
   "outputs": [
    {
     "data": {
      "application/vnd.jupyter.widget-view+json": {
       "model_id": "f3814719025047bd9413daeea6d7723c",
       "version_major": 2,
       "version_minor": 0
      },
      "text/plain": [
       "interactive(children=(Dropdown(description='subclass', options=('Comercio Varejista de Artigos de Armarinho', …"
      ]
     },
     "metadata": {},
     "output_type": "display_data"
    }
   ],
   "source": [
    "@interact(subclass = dd_subclass)\n",
    "def picker(subclass):\n",
    "    subclass_code = list(dict_subclasses.keys())[list(dict_subclasses.values()).index(subclass)]\n",
    "    \n",
    "    balance = get_balance(subclass_code)\n",
    "    subclass_graph(subclass, balance)"
   ]
  },
  {
   "cell_type": "markdown",
   "id": "d7843001-71be-45dd-9b9f-31db9ab01a0a",
   "metadata": {},
   "source": [
    "---"
   ]
  },
  {
   "cell_type": "code",
   "execution_count": null,
   "id": "36e9e401-1652-4332-8955-cb5d50333b1d",
   "metadata": {},
   "outputs": [],
   "source": []
  },
  {
   "cell_type": "code",
   "execution_count": null,
   "id": "88ed3cbe-2f8a-49d3-8f02-72ef4d66d1d1",
   "metadata": {},
   "outputs": [],
   "source": []
  },
  {
   "cell_type": "code",
   "execution_count": null,
   "id": "5796ac0b-1fd2-4391-9302-005629b0c5ce",
   "metadata": {},
   "outputs": [],
   "source": []
  },
  {
   "cell_type": "code",
   "execution_count": null,
   "id": "6c12ec3e-83b0-4b45-a410-6c7c94d10e47",
   "metadata": {},
   "outputs": [],
   "source": []
  },
  {
   "cell_type": "code",
   "execution_count": null,
   "id": "ba64056a-c9dd-412a-99d4-82913e07cfe0",
   "metadata": {},
   "outputs": [],
   "source": []
  },
  {
   "cell_type": "code",
   "execution_count": null,
   "id": "8d4bfbc2-03fe-47c6-b04b-2d99ea03139d",
   "metadata": {},
   "outputs": [],
   "source": []
  },
  {
   "cell_type": "code",
   "execution_count": null,
   "id": "b44a9cf0-c3c5-4b27-b23c-073718c384b0",
   "metadata": {},
   "outputs": [],
   "source": []
  },
  {
   "cell_type": "code",
   "execution_count": null,
   "id": "33fc6307-7c83-496d-8114-c1f5fe4092f0",
   "metadata": {},
   "outputs": [],
   "source": []
  },
  {
   "cell_type": "code",
   "execution_count": null,
   "id": "fcac9ac2-fe86-499a-a3ae-4f27af1b2626",
   "metadata": {},
   "outputs": [],
   "source": []
  },
  {
   "cell_type": "code",
   "execution_count": null,
   "id": "f2403a82-a2a5-488c-b19b-8a33277b912d",
   "metadata": {},
   "outputs": [],
   "source": []
  },
  {
   "cell_type": "code",
   "execution_count": null,
   "id": "d9f38fba-1f42-460c-9b79-63be46d8b593",
   "metadata": {},
   "outputs": [],
   "source": []
  }
 ],
 "metadata": {
  "kernelspec": {
   "display_name": "Python 3.8.8 64-bit ('base': conda)",
   "language": "python",
   "name": "python388jvsc74a57bd0d83547533f9050dd6fe51668b0feb7653dace4d0f960859b6bdd6b3de39e452f"
  },
  "language_info": {
   "codemirror_mode": {
    "name": "ipython",
    "version": 3
   },
   "file_extension": ".py",
   "mimetype": "text/x-python",
   "name": "python",
   "nbconvert_exporter": "python",
   "pygments_lexer": "ipython3",
   "version": "3.8.8"
  }
 },
 "nbformat": 4,
 "nbformat_minor": 5
}

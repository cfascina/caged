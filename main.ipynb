{
 "cells": [
  {
   "cell_type": "code",
   "execution_count": 1,
   "id": "c94c470f-11df-4fca-9537-ac29364df879",
   "metadata": {},
   "outputs": [],
   "source": [
    "import glob\n",
    "import matplotlib.pyplot as plt\n",
    "import pandas as pd\n",
    "\n",
    "from ipywidgets import interact, Dropdown"
   ]
  },
  {
   "cell_type": "markdown",
   "id": "b09e12ee-02a5-4a03-8643-a7d30622c18f",
   "metadata": {},
   "source": [
    "---"
   ]
  },
  {
   "cell_type": "code",
   "execution_count": 2,
   "id": "c0231fa2-0720-4d94-ab46-443f8a478867",
   "metadata": {},
   "outputs": [],
   "source": [
    "xls = pd.ExcelFile('estabelecimentos/layout.xlsx')"
   ]
  },
  {
   "cell_type": "code",
   "execution_count": 3,
   "id": "7eae0074-3a13-48dd-889c-3bb25263caeb",
   "metadata": {},
   "outputs": [],
   "source": [
    "dt_sections = pd.read_excel(xls, 'seção').set_index('Código').to_dict()['Descrição']"
   ]
  },
  {
   "cell_type": "markdown",
   "id": "990a6be6-41d4-4dad-a100-7340b1ef06ae",
   "metadata": {},
   "source": [
    "---"
   ]
  },
  {
   "cell_type": "code",
   "execution_count": 4,
   "id": "da8aeabc-75d7-466e-8d96-f7411a978d67",
   "metadata": {},
   "outputs": [],
   "source": [
    "df = pd.DataFrame()"
   ]
  },
  {
   "cell_type": "code",
   "execution_count": 5,
   "id": "91d97a74-2160-43e8-8799-3d4deb6bfeb6",
   "metadata": {},
   "outputs": [],
   "source": [
    "for csv in glob.glob('estabelecimentos/files/*csv'):\n",
    "    data = pd.read_csv(csv, sep = ';')\n",
    "    df = df.append(data)"
   ]
  },
  {
   "cell_type": "code",
   "execution_count": 6,
   "id": "76fa5314-b24a-465b-92e2-43a80a9c9770",
   "metadata": {},
   "outputs": [],
   "source": [
    "cols = [\n",
    "    'região',\n",
    "    'uf',\n",
    "    'fonte_desl', \n",
    "    'tipoempregador', \n",
    "    'tipoestabelecimento', \n",
    "    'tamestabjan'\n",
    "]"
   ]
  },
  {
   "cell_type": "code",
   "execution_count": 7,
   "id": "66844fac-39fe-4106-a5be-34490ac00726",
   "metadata": {},
   "outputs": [],
   "source": [
    "df = df.drop(cols, axis = 1)"
   ]
  },
  {
   "cell_type": "code",
   "execution_count": 8,
   "id": "117a3f7d-704c-4828-887d-eeae9e4fbcf9",
   "metadata": {},
   "outputs": [],
   "source": [
    "df = df.rename(\n",
    "    columns = {\n",
    "        'competência': 'competencia', \n",
    "        'município': 'municipio', \n",
    "        'seção': 'secao', \n",
    "        'saldomovimentação': 'saldo'\n",
    "    }\n",
    ")"
   ]
  },
  {
   "cell_type": "code",
   "execution_count": 9,
   "id": "8acb287e-2afc-4410-8756-cbcf47ba1782",
   "metadata": {},
   "outputs": [],
   "source": [
    "df = df.loc[df['municipio'] == 352590]"
   ]
  },
  {
   "cell_type": "markdown",
   "id": "f07d54ae-28ff-4595-b920-705e0951f998",
   "metadata": {},
   "source": [
    "---"
   ]
  },
  {
   "cell_type": "code",
   "execution_count": 10,
   "id": "89786a95-af81-48a9-871f-d729ed0ffe79",
   "metadata": {},
   "outputs": [],
   "source": [
    "def section_graph(section, df_balance):\n",
    "    fig, ax = plt.subplots(figsize = (15, 10))\n",
    "\n",
    "    plt.suptitle(f'Saldo de Empregos', fontsize = 20, fontweight = 'bold')\n",
    "    plt.title(section, fontsize = 18, y = 1.035)\n",
    "\n",
    "    graph = ax.bar(df_balance['competencia'].values, df_balance['saldo'].values, zorder = 2)\n",
    "\n",
    "    for bar in graph:\n",
    "        height = bar.get_height()\n",
    "        y_pos = height * 1.035\n",
    "        \n",
    "        if height >= 0:\n",
    "            v_align = 'bottom'\n",
    "        else:\n",
    "            v_align = 'top'\n",
    "\n",
    "        ax.text(bar.get_x() + bar.get_width() / 2, y_pos, height, ha = 'center', va = v_align, fontweight = 'bold')\n",
    "\n",
    "    plt.grid(axis = 'y', zorder = 0)\n",
    "    plt.show()"
   ]
  },
  {
   "cell_type": "code",
   "execution_count": 11,
   "id": "c058b06d-42d0-48b3-b9d5-db9edf997ebb",
   "metadata": {},
   "outputs": [],
   "source": [
    "def get_balance(section):\n",
    "    df_balance = df.loc[df['secao'] == section].groupby('competencia').agg({'saldo': 'sum'}).reset_index()\n",
    "    df_balance['competencia'] = df_balance['competencia'].astype(str)\n",
    "    df_balance['competencia'] = df_balance['competencia'].apply(lambda x: x[4:] + '/' + x[2:4])\n",
    "    \n",
    "    return df_balance"
   ]
  },
  {
   "cell_type": "markdown",
   "id": "eefee23e-7f61-481d-890e-fa347440ae01",
   "metadata": {},
   "source": [
    "---"
   ]
  },
  {
   "cell_type": "code",
   "execution_count": 12,
   "id": "2e0f61a3-6bec-4968-b7aa-ca0fe68b7d54",
   "metadata": {},
   "outputs": [],
   "source": [
    "dd_section = Dropdown(options = dt_sections.values())"
   ]
  },
  {
   "cell_type": "code",
   "execution_count": 13,
   "id": "0c3e1dcd-cab2-4a3b-81e4-e8506e182290",
   "metadata": {},
   "outputs": [
    {
     "data": {
      "application/vnd.jupyter.widget-view+json": {
       "model_id": "47054df1a6ee4ffd920dc2be67a89563",
       "version_major": 2,
       "version_minor": 0
      },
      "text/plain": [
       "interactive(children=(Dropdown(description='section', options=('Agricultura, Pecuária, Produção Florestal, Pes…"
      ]
     },
     "metadata": {},
     "output_type": "display_data"
    }
   ],
   "source": [
    "@interact(section = dd_section)\n",
    "def picker(section):\n",
    "    section_code = list(dt_sections.keys())[list(dt_sections.values()).index(section)]\n",
    "    \n",
    "    balance = get_balance(section_code)\n",
    "    section_graph(section, balance)"
   ]
  }
 ],
 "metadata": {
  "kernelspec": {
   "display_name": "Python 3.8.8 64-bit ('base': conda)",
   "language": "python",
   "name": "python388jvsc74a57bd0d83547533f9050dd6fe51668b0feb7653dace4d0f960859b6bdd6b3de39e452f"
  },
  "language_info": {
   "codemirror_mode": {
    "name": "ipython",
    "version": 3
   },
   "file_extension": ".py",
   "mimetype": "text/x-python",
   "name": "python",
   "nbconvert_exporter": "python",
   "pygments_lexer": "ipython3",
   "version": "3.8.8"
  }
 },
 "nbformat": 4,
 "nbformat_minor": 5
}

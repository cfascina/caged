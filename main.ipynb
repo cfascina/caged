{
 "cells": [
  {
   "cell_type": "code",
   "execution_count": null,
   "id": "8f6f9837-cd30-47ef-8ec3-d2ea7881851c",
   "metadata": {},
   "outputs": [],
   "source": [
    "import pandas as pd"
   ]
  },
  {
   "cell_type": "code",
   "execution_count": null,
   "id": "12a6fbd9-2193-4d7f-824a-63fb51a6fa62",
   "metadata": {},
   "outputs": [],
   "source": [
    "def get_cnae_name(code):\n",
    "    return df_cnaes.loc[df_cnaes['CNAE'] == code, 'Descrição'].item().strip()"
   ]
  },
  {
   "cell_type": "code",
   "execution_count": null,
   "id": "eef858d3-68ad-4310-8a69-c0b2b3fedad2",
   "metadata": {},
   "outputs": [],
   "source": [
    "def get_date(file):\n",
    "    date = file.split('/')[1].split('.')[0]\n",
    "    year = date[8:12]\n",
    "    month = date[12:]\n",
    "    \n",
    "    return f\"{year}-{month}\""
   ]
  },
  {
   "cell_type": "code",
   "execution_count": null,
   "id": "fa010ef4-8d77-4466-85be-f55572e9f3a0",
   "metadata": {},
   "outputs": [],
   "source": [
    "file = 'inputs/CAGEDMOV202203.txt'"
   ]
  },
  {
   "cell_type": "code",
   "execution_count": null,
   "id": "acb48706-5e25-413d-a39c-317eb6c1ea78",
   "metadata": {},
   "outputs": [],
   "source": [
    "df_cnaes = pd.read_csv('CNAES.csv')"
   ]
  },
  {
   "cell_type": "code",
   "execution_count": null,
   "id": "1ffe659c-7294-40b2-a132-e29a76e242c8",
   "metadata": {},
   "outputs": [],
   "source": [
    "cols = ['município', 'subclasse', 'saldomovimentação']"
   ]
  },
  {
   "cell_type": "code",
   "execution_count": null,
   "id": "dc501ef7-6c87-475e-b145-646608edbb88",
   "metadata": {},
   "outputs": [],
   "source": [
    "%%time\n",
    "df = pd.read_csv(file, usecols = cols, delimiter = ';')"
   ]
  },
  {
   "cell_type": "code",
   "execution_count": null,
   "id": "a296fa31-bcf4-4f07-bdf7-a93574371b88",
   "metadata": {},
   "outputs": [],
   "source": [
    "df = df[(df['município'] == 352590) & (df['subclasse'].isin(df_cnaes['CNAE']))]"
   ]
  },
  {
   "cell_type": "code",
   "execution_count": null,
   "id": "12605519-03f1-4b00-9547-8bfff051380d",
   "metadata": {},
   "outputs": [],
   "source": [
    "df_grouped = df.groupby(['subclasse', 'saldomovimentação']).size().unstack(fill_value = 0)"
   ]
  },
  {
   "cell_type": "code",
   "execution_count": null,
   "id": "7516882f-3cdd-4c86-b62f-b50dfdf86d18",
   "metadata": {},
   "outputs": [],
   "source": [
    "df_grouped.reset_index(level = 0, inplace = True)"
   ]
  },
  {
   "cell_type": "code",
   "execution_count": null,
   "id": "703ecfa5-7c24-4a15-aa32-b0278bbca8e6",
   "metadata": {},
   "outputs": [],
   "source": [
    "df_grouped.columns = ['CNAE', 'Desligados', 'Admitidos']"
   ]
  },
  {
   "cell_type": "code",
   "execution_count": null,
   "id": "b1821419-e539-485b-a704-4dd01ba2f7ba",
   "metadata": {},
   "outputs": [],
   "source": [
    "df_grouped.rename_axis(None, axis = 1, inplace = True)"
   ]
  },
  {
   "cell_type": "code",
   "execution_count": null,
   "id": "a4e8dc27-02fb-4916-895b-8dde581e529e",
   "metadata": {},
   "outputs": [],
   "source": [
    "df_grouped['Saldo'] = df_grouped['Admitidos'] - df_grouped['Desligados']"
   ]
  },
  {
   "cell_type": "code",
   "execution_count": null,
   "id": "3b5d7e30-1430-4d21-ae16-d02bb068e48a",
   "metadata": {},
   "outputs": [],
   "source": [
    "df_grouped['Descrição'] = df_grouped.apply(lambda row: get_cnae_name(row[0]), axis = 1)"
   ]
  },
  {
   "cell_type": "code",
   "execution_count": null,
   "id": "7afe7d09-d330-4b1f-a4da-3471eca02279",
   "metadata": {},
   "outputs": [],
   "source": [
    "df_grouped['Competência'] = get_date(file)"
   ]
  },
  {
   "cell_type": "code",
   "execution_count": null,
   "id": "1adbfdb7-5c31-444e-8405-27f246f13ec1",
   "metadata": {},
   "outputs": [],
   "source": [
    "df_result = df_grouped[['Competência', 'CNAE', 'Descrição', 'Admitidos', 'Desligados', 'Saldo']]"
   ]
  },
  {
   "cell_type": "code",
   "execution_count": null,
   "id": "2884afc7-4f61-457e-a0fa-6d2c393e2cc8",
   "metadata": {},
   "outputs": [],
   "source": [
    "df_result.to_csv(f\"outputs/{get_date(file)}.csv\", index = False)"
   ]
  },
  {
   "cell_type": "code",
   "execution_count": null,
   "id": "0c665645-7805-4154-b5cb-3311d80bb0c9",
   "metadata": {},
   "outputs": [],
   "source": [
    "# df_result"
   ]
  }
 ],
 "metadata": {
  "kernelspec": {
   "display_name": "Python 3.8.10 ('.venv': venv)",
   "language": "python",
   "name": "python3810jvsc74a57bd0d042c0f8cf2cbf3fc3853e40e17860ef2f5f3af1aa87cf2b65d717551d220c91"
  },
  "language_info": {
   "codemirror_mode": {
    "name": "ipython",
    "version": 3
   },
   "file_extension": ".py",
   "mimetype": "text/x-python",
   "name": "python",
   "nbconvert_exporter": "python",
   "pygments_lexer": "ipython3",
   "version": "3.8.10"
  }
 },
 "nbformat": 4,
 "nbformat_minor": 5
}

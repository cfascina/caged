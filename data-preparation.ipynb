{
 "cells": [
  {
   "cell_type": "code",
   "execution_count": 1,
   "id": "4737fefa-f87a-4c93-85b8-8cf4b9bc438e",
   "metadata": {},
   "outputs": [],
   "source": [
    "import glob\n",
    "import pandas as pd"
   ]
  },
  {
   "cell_type": "code",
   "execution_count": 2,
   "id": "f31936e8-63cd-488a-8d8d-96a1e4f32575",
   "metadata": {},
   "outputs": [],
   "source": [
    "xls = pd.ExcelFile('inputs/layout.xlsx')"
   ]
  },
  {
   "cell_type": "code",
   "execution_count": 3,
   "id": "d5298d45-7651-4f5c-805a-6e476b5a6f88",
   "metadata": {},
   "outputs": [],
   "source": [
    "dict_subclasses = pd.read_excel(xls, 'subclasse').set_index('Código').to_dict()['Descrição']"
   ]
  },
  {
   "cell_type": "code",
   "execution_count": 4,
   "id": "7cdd52f7-2d02-4211-88d2-e5df7b4f58aa",
   "metadata": {},
   "outputs": [],
   "source": [
    "df = pd.DataFrame()\n",
    "\n",
    "for csv in glob.glob('inputs/years/*csv'):\n",
    "    data = pd.read_csv(csv, sep = ';', encoding = 'utf-8')\n",
    "    df = df.append(data)"
   ]
  },
  {
   "cell_type": "code",
   "execution_count": 5,
   "id": "0aa3f795-b1d1-4021-b45f-930f7ca068ff",
   "metadata": {},
   "outputs": [],
   "source": [
    "df = df.loc[(df['município'] == 352590) & (df['seção'] == 'G')]"
   ]
  },
  {
   "cell_type": "code",
   "execution_count": 6,
   "id": "7c69bb86-702c-4022-922b-e1447b741703",
   "metadata": {},
   "outputs": [],
   "source": [
    "cols = [\n",
    "    'região',\n",
    "    'uf',\n",
    "    'município',\n",
    "    'seção',\n",
    "    'fonte_desl', \n",
    "    'tipoempregador', \n",
    "    'tipoestabelecimento', \n",
    "    'tamestabjan'\n",
    "]"
   ]
  },
  {
   "cell_type": "code",
   "execution_count": 7,
   "id": "cec71865-58cb-4ac1-a635-5ae802b5b1fd",
   "metadata": {},
   "outputs": [],
   "source": [
    "df = df.drop(cols, axis = 1)"
   ]
  },
  {
   "cell_type": "code",
   "execution_count": 8,
   "id": "8c6de3cd-20bd-459f-95ba-d00cc569c452",
   "metadata": {},
   "outputs": [],
   "source": [
    "df['competência'] = df['competência'].astype(str)\n",
    "df['competência'] = df['competência'].apply(lambda x: x[4:] + '/' + x[:4])"
   ]
  },
  {
   "cell_type": "code",
   "execution_count": 9,
   "id": "620d1f95-2947-48c3-a07f-f39443c1a298",
   "metadata": {},
   "outputs": [],
   "source": [
    "df['subclasse'].replace(dict_subclasses, inplace = True)"
   ]
  },
  {
   "cell_type": "code",
   "execution_count": 10,
   "id": "c3661d68-4852-4e7a-833a-1f783097698f",
   "metadata": {},
   "outputs": [],
   "source": [
    "# Most frequent words\n",
    "# df['Subclasse'].str.split(expand = True).stack().value_counts()[49:100]"
   ]
  },
  {
   "cell_type": "code",
   "execution_count": 11,
   "id": "a1308fbb-7e75-4e69-b79d-cfabae00ffb4",
   "metadata": {},
   "outputs": [],
   "source": [
    "abbr = {\n",
    "    'Alimentícios': 'Alim.',\n",
    "    'Anteriormente': 'Ant.',\n",
    "    'Artigos': 'Art.',\n",
    "    'Atacadista': 'Atac.',\n",
    "    'Automotores': 'Autom.',\n",
    "    'Combustíveis': 'Comb.',\n",
    "    'Comércio': 'Com.',\n",
    "    'Construção': 'Const.',\n",
    "    'Departamentos': 'Dep.',\n",
    "    'Eletrodomésticos': 'Eletrod.',\n",
    "    'Equipamentos': 'Equip.',\n",
    "    'Especializado': 'Especial.',\n",
    "    'Especificados': 'Especif.',\n",
    "    'Farmacêuticos': 'Farmac.',\n",
    "    'Manipulação': 'Manip.',\n",
    "    'Materiais': 'Mat.',\n",
    "    'Mercadorias': 'Merc.',\n",
    "    'Predominância': 'Pred.',\n",
    "    'Serviços': 'Serv.',\n",
    "    'Supermercados': 'Superm.',\n",
    "    'Varejista': 'Var.',\n",
    "    'Varejo': 'Var.',\n",
    "    'Veículos': 'Veíc.'   \n",
    "}"
   ]
  },
  {
   "cell_type": "code",
   "execution_count": 12,
   "id": "0bbaeb1e-6bc0-46f5-9815-e4dc12d7a6ae",
   "metadata": {},
   "outputs": [],
   "source": [
    "df['subclasse'] = df['subclasse'].replace(abbr, regex = True)"
   ]
  },
  {
   "cell_type": "code",
   "execution_count": 13,
   "id": "e44eafe9-844b-4bf9-8723-787295961e03",
   "metadata": {},
   "outputs": [],
   "source": [
    "df = df.rename(\n",
    "    columns = {\n",
    "        'competência': 'Competência',\n",
    "        'subclasse': 'Subclasse',\n",
    "        'admitidos': 'Admitidos',\n",
    "        'desligados': 'Desligados',\n",
    "        'saldomovimentação': 'Saldo'\n",
    "    }\n",
    ")"
   ]
  },
  {
   "cell_type": "code",
   "execution_count": 14,
   "id": "b6c7569c-ef78-4553-a8a0-e6685be0dc4e",
   "metadata": {},
   "outputs": [],
   "source": [
    "df.to_csv('outputs/data.csv', sep = ',', encoding = 'utf-8', index = False)"
   ]
  }
 ],
 "metadata": {
  "kernelspec": {
   "display_name": "Python 3 (ipykernel)",
   "language": "python",
   "name": "python3"
  },
  "language_info": {
   "codemirror_mode": {
    "name": "ipython",
    "version": 3
   },
   "file_extension": ".py",
   "mimetype": "text/x-python",
   "name": "python",
   "nbconvert_exporter": "python",
   "pygments_lexer": "ipython3",
   "version": "3.9.7"
  }
 },
 "nbformat": 4,
 "nbformat_minor": 5
}

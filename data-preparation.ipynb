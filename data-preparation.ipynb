{
 "cells": [
  {
   "cell_type": "code",
   "execution_count": 1,
   "id": "4737fefa-f87a-4c93-85b8-8cf4b9bc438e",
   "metadata": {},
   "outputs": [],
   "source": [
    "import glob\n",
    "import pandas as pd"
   ]
  },
  {
   "cell_type": "code",
   "execution_count": 2,
   "id": "5b7997f0-a5ed-4fdd-a833-329ceb33f499",
   "metadata": {},
   "outputs": [],
   "source": [
    "df = pd.DataFrame()"
   ]
  },
  {
   "cell_type": "code",
   "execution_count": 3,
   "id": "7cdd52f7-2d02-4211-88d2-e5df7b4f58aa",
   "metadata": {},
   "outputs": [],
   "source": [
    "for csv in glob.glob('inputs/years/*csv'):\n",
    "    data = pd.read_csv(csv, sep = ';', encoding = 'utf-8')\n",
    "    df = df.append(data)"
   ]
  },
  {
   "cell_type": "code",
   "execution_count": 4,
   "id": "7c69bb86-702c-4022-922b-e1447b741703",
   "metadata": {},
   "outputs": [],
   "source": [
    "cols = [\n",
    "    'região',\n",
    "    'uf',\n",
    "    'fonte_desl', \n",
    "    'tipoempregador', \n",
    "    'tipoestabelecimento', \n",
    "    'tamestabjan'\n",
    "]"
   ]
  },
  {
   "cell_type": "code",
   "execution_count": 5,
   "id": "cec71865-58cb-4ac1-a635-5ae802b5b1fd",
   "metadata": {},
   "outputs": [],
   "source": [
    "df = df.drop(cols, axis = 1)"
   ]
  },
  {
   "cell_type": "code",
   "execution_count": 6,
   "id": "e44eafe9-844b-4bf9-8723-787295961e03",
   "metadata": {},
   "outputs": [],
   "source": [
    "df = df.rename(\n",
    "    columns = {\n",
    "        'competência': 'competencia', \n",
    "        'município': 'municipio', \n",
    "        'seção': 'secao', \n",
    "        'saldomovimentação': 'saldo'\n",
    "    }\n",
    ")"
   ]
  },
  {
   "cell_type": "code",
   "execution_count": 7,
   "id": "0aa3f795-b1d1-4021-b45f-930f7ca068ff",
   "metadata": {},
   "outputs": [],
   "source": [
    "df = df.loc[(df['municipio'] == 352590) & (df['secao'] == 'G')]"
   ]
  },
  {
   "cell_type": "code",
   "execution_count": 8,
   "id": "b6c7569c-ef78-4553-a8a0-e6685be0dc4e",
   "metadata": {},
   "outputs": [],
   "source": [
    "df.to_csv('outputs/data.csv', sep = ';', encoding = 'utf-8', index = False)"
   ]
  }
 ],
 "metadata": {
  "kernelspec": {
   "display_name": "Python 3.8.8 64-bit ('base': conda)",
   "language": "python",
   "name": "python388jvsc74a57bd0d83547533f9050dd6fe51668b0feb7653dace4d0f960859b6bdd6b3de39e452f"
  },
  "language_info": {
   "codemirror_mode": {
    "name": "ipython",
    "version": 3
   },
   "file_extension": ".py",
   "mimetype": "text/x-python",
   "name": "python",
   "nbconvert_exporter": "python",
   "pygments_lexer": "ipython3",
   "version": "3.8.8"
  }
 },
 "nbformat": 4,
 "nbformat_minor": 5
}
